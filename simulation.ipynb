{
 "cells": [
  {
   "cell_type": "code",
   "execution_count": 1,
   "id": "dad54267",
   "metadata": {},
   "outputs": [],
   "source": [
    "import numpy as np\n",
    "import pandas as pd\n",
    "import numba"
   ]
  },
  {
   "cell_type": "markdown",
   "id": "207fa871",
   "metadata": {},
   "source": [
    "# set zb"
   ]
  },
  {
   "cell_type": "code",
   "execution_count": 2,
   "id": "072ddca5",
   "metadata": {},
   "outputs": [],
   "source": [
    "# df = pd.read_csv('zb2.csv',index_col=0)\n",
    "df = pd.read_csv('https://raw.githubusercontent.com/computational-sediment-hyd/1DSWEwithSmallerDx/main/zb2.csv',index_col=0)\n",
    "\n",
    "dx = 0.5\n",
    "Ls = np.arange(0,10000.1,dx)\n",
    "\n",
    "Zip = np.interp(Ls, df.L, df.Z)"
   ]
  },
  {
   "cell_type": "markdown",
   "id": "7545e518",
   "metadata": {},
   "source": [
    "# condition : common"
   ]
  },
  {
   "cell_type": "code",
   "execution_count": 3,
   "id": "8da6a1b5",
   "metadata": {},
   "outputs": [],
   "source": [
    "q = 10.0\n",
    "n = 0.03\n",
    "ib = 1/400\n",
    "g = 9.8\n",
    "\n",
    "h0 = (q**2*n**2/ib)**0.3 #等流水深\n",
    "hc = (q**2/g)**(1/3) # 限界水深"
   ]
  },
  {
   "cell_type": "markdown",
   "id": "90960667",
   "metadata": {},
   "source": [
    "# Nonuniform flow"
   ]
  },
  {
   "cell_type": "code",
   "execution_count": 4,
   "id": "0876b4ba",
   "metadata": {},
   "outputs": [],
   "source": [
    "h = np.zeros_like(Ls) #水深の配列\n",
    "zb = Zip.copy()\n",
    "\n",
    "h[0] = h0 #下流端条件\n",
    "for i in range(1,len(h)):\n",
    "    h[i] = h[i-1] #収束計算の初期値：一つ下流側の断面の水深\n",
    "    f = 1.0 #仮値\n",
    "    dfdh = 1.0 #仮値\n",
    "    while np.abs(f/dfdh) > 10**(-8): # 反復計算の収束条件\n",
    "        f = q**2/2.0/g/h[i]**2 + h[i] + zb[i] \\\n",
    "          -(q**2/2.0/g/h[i-1]**2 + h[i-1] + zb[i-1]) \\\n",
    "          - 0.5*(q**2*n**2/h[i]**(10/3) + q**2*n**2/h[i-1]**(10/3))*dx\n",
    "        dfdh = -q**2/g/h[i]**3 + 1 + 5/3*q**2*n**2/h[i]**(13/3)*dx\n",
    "        h[i] -= f/dfdh\n",
    "        \n",
    "hNU = h.copy()"
   ]
  },
  {
   "cell_type": "markdown",
   "id": "df2587bb",
   "metadata": {},
   "source": [
    "# Unsteady flow : Colloacated"
   ]
  },
  {
   "cell_type": "code",
   "execution_count": 5,
   "id": "577d4379",
   "metadata": {},
   "outputs": [],
   "source": [
    "@numba.jit(nopython=True, parallel=False)\n",
    "def UnSteadyflowCollocated(A, Q, Adown, Qup, zb, B, dx, dt, g, manning):\n",
    "    imax = len(A)\n",
    "    Anew, Qnew = np.zeros(imax), np.zeros(imax)\n",
    "    \n",
    "# continuous equation\n",
    "    for i in numba.prange(1, imax-1) : Anew[i] = A[i] - dt * ( Q[i] - Q[i-1] ) / dx\n",
    "        \n",
    "    Anew[0], Anew[-1] = Anew[1], Adown\n",
    "    \n",
    "# moumentum equation\n",
    "    for i in numba.prange(1,imax-1): \n",
    "        ip, ic, im = (i+1, i, i-1) \n",
    "        Cr1 = 0.5*( Q[ic]/A[ic] + Q[ip]/A[ip] )*dt/dx\n",
    "        Cr2 = 0.5*( Q[ic]/A[ic] + Q[im]/A[im] )*dt/dx\n",
    "        dHdx1 = ( Anew[ip]/B[ip] + zb[ip] - Anew[ic]/B[ic] - zb[ic] ) / dx\n",
    "        dHdx2 = ( Anew[ic]/B[ic] + zb[ic] - Anew[im]/B[im] - zb[im] ) / dx\n",
    "        dHdx = (1.0 - Cr1) * dHdx1 + Cr2 * dHdx2\n",
    "        \n",
    "        Qnew[ic] = Q[ic] - dt * ( Q[ic]**2/A[ic] - Q[im]**2/A[im] ) / dx  \\\n",
    "                   - dt * g * Anew[ic] * dHdx \\\n",
    "                   - dt * g * A[ic] * manning**2 * Q[ic]**2 / B[ic]**2 / ( A[ic]/B[ic] )**(10.0/3.0)\n",
    "                \n",
    "#     Qnew[0], Qnew[-1] = Qup, Qnew[-2]\n",
    "    Qnew[0] = Qup\n",
    "    \n",
    "# check downstream boundary Q \n",
    "    i = -1\n",
    "    ic, im = (i, i-1) \n",
    "    dHdx = ( Anew[ic]/B[ic] + zb[ic] - Anew[im]/B[im] - zb[im] ) / dx\n",
    "    \n",
    "    Qnew[ic] = Q[ic] - dt * ( Q[ic]**2/A[ic] - Q[im]**2/A[im] ) / dx  \\\n",
    "               - dt * g * Anew[ic] * dHdx \\\n",
    "               - dt * g * A[ic] * manning**2 * Q[ic]**2 / B[ic]**2 / ( A[ic]/B[ic] )**(10.0/3.0)\n",
    "            \n",
    "    return Anew, Qnew, np.abs(Anew - A).max()"
   ]
  },
  {
   "cell_type": "code",
   "execution_count": 6,
   "id": "005144a5",
   "metadata": {},
   "outputs": [
    {
     "name": "stdout",
     "output_type": "stream",
     "text": [
      "0.0 0.06604200618295097\n",
      "600.0 9.582725620571608e-06\n",
      "1200.0 6.342622615118643e-06\n",
      "1800.0 4.464433007278501e-06\n",
      "2400.0 1.2445479864453546e-06\n",
      "3000.0 2.220226260618574e-07\n",
      "3600.0 3.2382274639530806e-08\n",
      "4200.0 4.211158977085461e-09\n",
      "4800.0 5.097007260701503e-10\n",
      "5400.0 5.88222803798999e-11\n",
      "6000.0 6.568079413682426e-12\n",
      "6600.0 7.16315895488151e-13\n",
      "7200.0 7.682743330406083e-14\n",
      "7800.0 8.43769498715119e-15\n",
      "8400.0 1.3322676295501878e-15\n",
      "9000.0 1.3322676295501878e-15\n",
      "9600.0 1.3322676295501878e-15\n",
      "10200.0 1.3322676295501878e-15\n",
      "CPU times: total: 4min 30s\n",
      "Wall time: 4min 32s\n"
     ]
    }
   ],
   "source": [
    "%%time\n",
    "imax = len(Ls)\n",
    "dt = 0.025\n",
    "totalTime = 3.0*3600.0\n",
    "manning = n\n",
    "\n",
    "# Initial & Boundary condition\n",
    "zb = Zip.copy()\n",
    "zb = zb[::-1]\n",
    "\n",
    "B = np.full(imax, 1.0, dtype=float)\n",
    "A = hNU[::-1]*B\n",
    "Q = q*B\n",
    "\n",
    "Qup = Q[0]\n",
    "Adown = A[-1] \n",
    "\n",
    "tout = 600\n",
    "for it in range(int(totalTime/dt)):\n",
    "    A, Q, err = UnSteadyflowCollocated(A, Q, Adown, Qup, zb, B, dx, dt, g, manning)\n",
    "    if (dt*it)%tout==0: print((dt*it), err)\n",
    "        \n",
    "hUSC = A[::-1]/B[::-1] "
   ]
  },
  {
   "cell_type": "markdown",
   "id": "a1d6efef",
   "metadata": {},
   "source": [
    "# Unsteady flow : Staggered"
   ]
  },
  {
   "cell_type": "code",
   "execution_count": 7,
   "id": "0280d5ae",
   "metadata": {},
   "outputs": [],
   "source": [
    "@numba.jit(nopython=True, parallel=False)\n",
    "def UnSteadyflowStaggered(A, Q, Adown, Qup, zb, B, dx, dt, g, manning):\n",
    "    imax = len(A)\n",
    "    Anew, Qnew = np.zeros(imax), np.zeros(imax)\n",
    "    Qhf, Qhfnew = np.zeros(imax), np.zeros(imax) # 下流端は使わないためimax個とする。\n",
    "    ie = np.zeros(imax)\n",
    "    Vhf = np.zeros(imax+1)\n",
    "    \n",
    "# Q value cell-center to harf cell\n",
    "# すべてをセルセンターで扱うため、ハーフセルへの変換では逆変換との兼ね合いで次のように定義する。\n",
    "    Qhf[-1] = Q[-1]\n",
    "    for i in range(imax-2, -1, -1) : \n",
    "        Qhf[i] = 2.0*Q[i] - Qhf[i+1]\n",
    "    \n",
    "    for i in range(imax) : \n",
    "        ie[i] = manning**2 * Q[i]**2 / B[i]**2 / ( A[i]/B[i] )**(10.0/3.0)\n",
    "    \n",
    "# continuous equation\n",
    "    for i in range(0, imax-1) : \n",
    "        Anew[i] = A[i] - dt * ( Qhf[i+1] - Qhf[i] ) / dx\n",
    "    Anew[-1] = Adown\n",
    "    \n",
    "    Hnew = Anew/B + zb\n",
    "    \n",
    "    # 逆流の場合は風上が必要\n",
    "    for i in range(1, imax) : \n",
    "        Vhf[i] = Qhf[i]/A[i-1]\n",
    "    Vhf[0] = Qhf[0]/A[0]\n",
    "    Vhf[-1] = Q[-1]/A[-1]\n",
    "    \n",
    "# moumentum equation\n",
    "    for i in range(1, imax): \n",
    "        dHdx = ( Hnew[i] - Hnew[i-1] ) / dx\n",
    "        Ahfnew = 0.5*(Anew[i] + Anew[i-1])\n",
    "        Ahf = 0.5*(A[i]+A[i-1])\n",
    "        iehf = 0.5*(ie[i]+ie[i-1])\n",
    "        Vp = 0.5*(Vhf[i+1] + Vhf[i])\n",
    "        Vm = 0.5*(Vhf[i-1] + Vhf[i])\n",
    "        \n",
    "        Qhfnew[i] = Qhf[i] - dt * ( Vp*Qhf[i] - Vm*Qhf[i-1] ) / dx \\\n",
    "                         - dt * g * Ahfnew * dHdx \\\n",
    "                         - dt * g * Ahf * iehf \\\n",
    "            \n",
    "    Qhfnew[0] = Qup\n",
    "    \n",
    "    for i in range(imax-1): \n",
    "        Qnew[i] = 0.5*( Qhfnew[i+1] + Qhfnew[i] )\n",
    "    Qnew[-1] = Qhfnew[-1]\n",
    "    \n",
    "    return Anew, Qnew, np.abs(Anew - A).max()"
   ]
  },
  {
   "cell_type": "code",
   "execution_count": 8,
   "id": "98d83fa0",
   "metadata": {},
   "outputs": [
    {
     "name": "stdout",
     "output_type": "stream",
     "text": [
      "0.0 0.0\n",
      "600.0 5.136523422599737e-06\n",
      "1200.0 3.427166012315297e-06\n",
      "1800.0 2.422871377749658e-06\n",
      "2400.0 6.408640684796296e-07\n",
      "3000.0 1.0106712711177579e-07\n",
      "3600.0 1.252371717441747e-08\n",
      "4200.0 1.3521104236247083e-09\n",
      "4800.0 1.3384138242145127e-10\n",
      "5400.0 1.2504219881748213e-11\n",
      "6000.0 1.1333156635373598e-12\n",
      "6600.0 1.056932319443149e-13\n",
      "7200.0 3.375077994860476e-14\n",
      "7800.0 6.838973831690964e-14\n",
      "8400.0 6.52811138479592e-14\n",
      "9000.0 2.4868995751603507e-14\n",
      "9600.0 2.7533531010703882e-14\n",
      "10200.0 5.062616992290714e-14\n",
      "CPU times: total: 4min 7s\n",
      "Wall time: 4min 12s\n"
     ]
    }
   ],
   "source": [
    "%%time\n",
    "imax = len(Ls)\n",
    "dt = 0.025\n",
    "totalTime = 3.0*3600.0\n",
    "manning = n\n",
    "\n",
    "# Initial & Boundary condition\n",
    "zb = Zip.copy()\n",
    "zb = zb[::-1]\n",
    "\n",
    "B = np.full(imax, 1.0, dtype=float)\n",
    "A = hNU[::-1]*B\n",
    "Q = q*B\n",
    "\n",
    "Qup = Q[0]\n",
    "Adown = A[-1] \n",
    "\n",
    "tout = 600\n",
    "for it in range(int(totalTime/dt)):\n",
    "    A, Q, err = UnSteadyflowStaggered(A, Q, Adown, Qup, zb, B, dx, dt, g, manning)\n",
    "    if (dt*it)%tout==0: print((dt*it), err)\n",
    "        \n",
    "hUSS = A[::-1]/B[::-1] "
   ]
  },
  {
   "cell_type": "markdown",
   "id": "4b3b79d9",
   "metadata": {},
   "source": [
    "# export"
   ]
  },
  {
   "cell_type": "code",
   "execution_count": 9,
   "id": "0dd10139",
   "metadata": {},
   "outputs": [],
   "source": [
    "dfout = pd.DataFrame({'Distance':Ls, 'Zb':Zip, 'Nonuniform':hNU, 'Unsteady Collacated':hUSC,'Unsteady Staggered':hUSS})\n",
    "\n",
    "d = dfout.to_csv('calout.csv', index_label='id')"
   ]
  }
 ],
 "metadata": {
  "kernelspec": {
   "display_name": "Python 3 (ipykernel)",
   "language": "python",
   "name": "python3"
  },
  "language_info": {
   "codemirror_mode": {
    "name": "ipython",
    "version": 3
   },
   "file_extension": ".py",
   "mimetype": "text/x-python",
   "name": "python",
   "nbconvert_exporter": "python",
   "pygments_lexer": "ipython3",
   "version": "3.10.12"
  },
  "toc": {
   "base_numbering": 1,
   "nav_menu": {},
   "number_sections": true,
   "sideBar": true,
   "skip_h1_title": false,
   "title_cell": "Table of Contents",
   "title_sidebar": "Contents",
   "toc_cell": false,
   "toc_position": {},
   "toc_section_display": true,
   "toc_window_display": true
  }
 },
 "nbformat": 4,
 "nbformat_minor": 5
}
