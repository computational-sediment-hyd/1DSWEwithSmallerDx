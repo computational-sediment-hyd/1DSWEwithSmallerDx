{
 "cells": [
  {
   "cell_type": "code",
   "execution_count": null,
   "id": "dad54267",
   "metadata": {},
   "outputs": [],
   "source": [
    "import numpy as np\n",
    "import pandas as pd\n",
    "import numba"
   ]
  },
  {
   "cell_type": "markdown",
   "id": "8b62ed7a",
   "metadata": {},
   "source": [
    "# Unsteady flow : Collocated"
   ]
  },
  {
   "cell_type": "code",
   "execution_count": null,
   "id": "57812293",
   "metadata": {},
   "outputs": [],
   "source": [
    "@numba.jit(nopython=True, parallel=False)\n",
    "def UnSteadyflowStaggered(A, Q, Adown, Qup, zb, B, dx, dt, g, manning):\n",
    "    imax = len(A)\n",
    "    Anew, Qnew = np.zeros(imax), np.zeros(imax)\n",
    "    Qhf, Qhfnew = np.zeros(imax), np.zeros(imax) # 下流端は使わないためimax個とする。\n",
    "    ie = np.zeros(imax)\n",
    "    Vhf = np.zeros(imax+1)\n",
    "    \n",
    "# Q value cell-center to harf cell\n",
    "# すべてをセルセンターで扱うため、ハーフセルへの変換では逆変換との兼ね合いで次のように定義する。\n",
    "    Qhf[-1] = Q[-1]\n",
    "    for i in range(imax-2, -1, -1) : \n",
    "        Qhf[i] = 2.0*Q[i] - Qhf[i+1]\n",
    "    \n",
    "    for i in range(imax) : \n",
    "        ie[i] = manning**2 * Q[i]**2 / B[i]**2 / ( A[i]/B[i] )**(10.0/3.0)\n",
    "    \n",
    "# continuous equation\n",
    "    for i in range(0, imax-1) : \n",
    "        Anew[i] = A[i] - dt * ( Qhf[i+1] - Qhf[i] ) / dx\n",
    "    Anew[-1] = Adown\n",
    "    \n",
    "    Hnew = Anew/B + zb\n",
    "    \n",
    "    # 逆流の場合は風上が必要\n",
    "    for i in range(1, imax) : \n",
    "        Vhf[i] = Qhf[i]/A[i-1]\n",
    "    Vhf[0] = Qhf[0]/A[0]\n",
    "    Vhf[-1] = Q[-1]/A[-1]\n",
    "    \n",
    "# moumentum equation\n",
    "    for i in range(1, imax): \n",
    "        dHdx = ( Hnew[i] - Hnew[i-1] ) / dx\n",
    "        Ahfnew = 0.5*(Anew[i] + Anew[i-1])\n",
    "        Ahf = 0.5*(A[i]+A[i-1])\n",
    "        iehf = 0.5*(ie[i]+ie[i-1])\n",
    "        Vp = 0.5*(Vhf[i+1] + Vhf[i])\n",
    "        Vm = 0.5*(Vhf[i-1] + Vhf[i])\n",
    "        \n",
    "        Qhfnew[i] = Qhf[i] - dt * ( Vp*Qhf[i] - Vm*Qhf[i-1] ) / dx \\\n",
    "                         - dt * g * Ahfnew * dHdx \\\n",
    "                         - dt * g * Ahf * iehf \\\n",
    "            \n",
    "    Qhfnew[0] = Qup\n",
    "    \n",
    "    for i in range(imax-1): \n",
    "        Qnew[i] = 0.5*( Qhfnew[i+1] + Qhfnew[i] )\n",
    "    Qnew[-1] = Qhfnew[-1]\n",
    "    \n",
    "    return Anew, Qnew, np.abs(Anew - A).max()"
   ]
  },
  {
   "cell_type": "code",
   "execution_count": null,
   "id": "b089c07f",
   "metadata": {},
   "outputs": [],
   "source": [
    "# df = pd.read_csv('zb2.csv',index_col=0)\n",
    "df = pd.read_csv('https://raw.githubusercontent.com/computational-sediment-hyd/1DSWEwithSmallerDx/main/zb2.csv',index_col=0)"
   ]
  },
  {
   "cell_type": "code",
   "execution_count": null,
   "id": "c6175238",
   "metadata": {},
   "outputs": [],
   "source": [
    "q = 10.0\n",
    "n = 0.03\n",
    "ib = 1/400\n",
    "g = 9.8\n",
    "\n",
    "h0 = (q**2*n**2/ib)**0.3 #等流水深\n",
    "hc = (q**2/g)**(1/3) # 限界水深"
   ]
  },
  {
   "cell_type": "markdown",
   "id": "337f36e2",
   "metadata": {},
   "source": [
    "## dx=0.5"
   ]
  },
  {
   "cell_type": "code",
   "execution_count": null,
   "id": "1bf96d81",
   "metadata": {},
   "outputs": [],
   "source": [
    "%%time\n",
    "\n",
    "dx = 0.5\n",
    "Ls1 = np.arange(0,10000.1,dx)\n",
    "Zip1 = np.interp(Ls1, df.L, df.Z)\n",
    "\n",
    "imax = len(Ls1)\n",
    "dt = 0.025\n",
    "totalTime = 3.0*3600.0\n",
    "manning = n\n",
    "\n",
    "# Initial & Boundary condition\n",
    "zb = Zip1.copy()\n",
    "zb = zb[::-1]\n",
    "\n",
    "B = np.full(imax, 1.0, dtype=float)\n",
    "A = h0*B\n",
    "Q = q*B\n",
    "\n",
    "Qup = Q[0]\n",
    "Adown = A[-1] \n",
    "\n",
    "tout = 600\n",
    "for it in range(int(totalTime/dt)):\n",
    "    A, Q, err = UnSteadyflowStaggered(A, Q, Adown, Qup, zb, B, dx, dt, g, manning)\n",
    "    if (dt*it)%tout==0: print((dt*it), err)\n",
    "        \n",
    "hc1 = A[::-1]/B[::-1] "
   ]
  },
  {
   "cell_type": "markdown",
   "id": "3982b837",
   "metadata": {},
   "source": [
    "## dx=10.0"
   ]
  },
  {
   "cell_type": "code",
   "execution_count": null,
   "id": "b29c0e41",
   "metadata": {},
   "outputs": [],
   "source": [
    "%%time\n",
    "\n",
    "dx = 10.0\n",
    "Ls2 = np.arange(0,10000.1,dx)\n",
    "Zip2 = np.interp(Ls2, df.L, df.Z)\n",
    "\n",
    "imax = len(Ls2)\n",
    "dt = 0.025\n",
    "totalTime = 3.0*3600.0\n",
    "manning = n\n",
    "\n",
    "# Initial & Boundary condition\n",
    "zb = Zip2.copy()\n",
    "zb = zb[::-1]\n",
    "\n",
    "B = np.full(imax, 1.0, dtype=float)\n",
    "A = h0*B\n",
    "Q = q*B\n",
    "\n",
    "Qup = Q[0]\n",
    "Adown = A[-1] \n",
    "\n",
    "tout = 600\n",
    "for it in range(int(totalTime/dt)):\n",
    "    A, Q, err = UnSteadyflowStaggered(A, Q, Adown, Qup, zb, B, dx, dt, g, manning)\n",
    "    if (dt*it)%tout==0: print((dt*it), err)\n",
    "        \n",
    "hc2 = A[::-1]/B[::-1] "
   ]
  },
  {
   "cell_type": "markdown",
   "id": "7de34c09",
   "metadata": {},
   "source": [
    "## dx=100.0"
   ]
  },
  {
   "cell_type": "code",
   "execution_count": null,
   "id": "a2a646ab",
   "metadata": {},
   "outputs": [],
   "source": [
    "%%time\n",
    "\n",
    "dx = 100.0\n",
    "Ls3 = np.arange(0,10000.1,dx)\n",
    "Zip3 = np.interp(Ls3, df.L, df.Z)\n",
    "\n",
    "imax = len(Ls3)\n",
    "dt = 0.025\n",
    "totalTime = 3.0*3600.0\n",
    "manning = n\n",
    "\n",
    "# Initial & Boundary condition\n",
    "zb = Zip3.copy()\n",
    "zb = zb[::-1]\n",
    "\n",
    "B = np.full(imax, 1.0, dtype=float)\n",
    "A = h0*B\n",
    "Q = q*B\n",
    "\n",
    "Qup = Q[0]\n",
    "Adown = A[-1] \n",
    "\n",
    "tout = 600\n",
    "for it in range(int(totalTime/dt)):\n",
    "    A, Q, err = UnSteadyflowStaggered(A, Q, Adown, Qup, zb, B, dx, dt, g, manning)\n",
    "    if (dt*it)%tout==0: print((dt*it), err)\n",
    "        \n",
    "hc3 = A[::-1]/B[::-1] "
   ]
  },
  {
   "cell_type": "markdown",
   "id": "e9f898b0",
   "metadata": {},
   "source": [
    "# fig"
   ]
  },
  {
   "cell_type": "code",
   "execution_count": null,
   "id": "9ca04555",
   "metadata": {},
   "outputs": [],
   "source": [
    "import holoviews as hv\n",
    "hv.extension('bokeh')"
   ]
  },
  {
   "cell_type": "code",
   "execution_count": null,
   "id": "86dfee7d",
   "metadata": {},
   "outputs": [],
   "source": [
    "fig = hv.Curve((df.L,df.Z), label='Zb dx=0.5m').options(show_grid=True, ylabel='elevation[m]', xlabel='distance[m]' ,color='k') \\\n",
    "* hv.Scatter((Ls2, Zip2), label='Zb dx=10m').options(color='r',size=6) \\\n",
    "* hv.Scatter((Ls3, Zip3), label='Zb dx=100m').options(color='g',size=6) \\\n",
    "* hv.Curve((Ls1, Zip1 + hc1), label='dx=0.5m' ).options(color='b') \\\n",
    "* hv.Curve((Ls2, Zip2 + hc2), label='dx=10m').options(color='r') \\\n",
    "* hv.Curve((Ls3, Zip3 + hc3), label='dx=100m').options(color='g')"
   ]
  },
  {
   "cell_type": "code",
   "execution_count": null,
   "id": "e2a9b939",
   "metadata": {},
   "outputs": [],
   "source": [
    "hv.extension('bokeh')\n",
    "figo = fig.options(width=500, legend_position='bottom_right')\n",
    "# d = hv.save(figo, 'USSdx.html')\n",
    "figo "
   ]
  },
  {
   "cell_type": "code",
   "execution_count": null,
   "id": "50a6b2db",
   "metadata": {},
   "outputs": [],
   "source": [
    "hv.extension('bokeh')\n",
    "figo2 = fig.options(xlim=(3050, 3350), ylim=(7, 12), width=700, height=600, legend_position='right')\n",
    "# d = hv.save(figo2, 'USSdx2.html')\n",
    "figo2"
   ]
  }
 ],
 "metadata": {
  "kernelspec": {
   "display_name": "Python 3 (ipykernel)",
   "language": "python",
   "name": "python3"
  },
  "language_info": {
   "codemirror_mode": {
    "name": "ipython",
    "version": 3
   },
   "file_extension": ".py",
   "mimetype": "text/x-python",
   "name": "python",
   "nbconvert_exporter": "python",
   "pygments_lexer": "ipython3",
   "version": "3.10.12"
  },
  "toc": {
   "base_numbering": 1,
   "nav_menu": {},
   "number_sections": true,
   "sideBar": true,
   "skip_h1_title": false,
   "title_cell": "Table of Contents",
   "title_sidebar": "Contents",
   "toc_cell": false,
   "toc_position": {},
   "toc_section_display": true,
   "toc_window_display": true
  }
 },
 "nbformat": 4,
 "nbformat_minor": 5
}
