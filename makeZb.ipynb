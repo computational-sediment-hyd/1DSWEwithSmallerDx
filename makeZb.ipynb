{
 "cells": [
  {
   "cell_type": "code",
   "execution_count": null,
   "id": "85206414",
   "metadata": {},
   "outputs": [],
   "source": [
    "import numpy as np\n",
    "import pandas as pd"
   ]
  },
  {
   "cell_type": "code",
   "execution_count": null,
   "id": "c4817395",
   "metadata": {},
   "outputs": [],
   "source": [
    "dx = 0.5\n",
    "Ls = np.arange(0,10000.1,dx)\n",
    "len(Ls)"
   ]
  },
  {
   "cell_type": "code",
   "execution_count": null,
   "id": "32893daa",
   "metadata": {},
   "outputs": [],
   "source": [
    "amp = 0.1\n",
    "delta = np.random.rand(len(Ls)) * amp*2 - amp"
   ]
  },
  {
   "cell_type": "code",
   "execution_count": null,
   "id": "c51dbb5d",
   "metadata": {},
   "outputs": [],
   "source": [
    "ib = 1/400"
   ]
  },
  {
   "cell_type": "code",
   "execution_count": null,
   "id": "aca0b9b8",
   "metadata": {},
   "outputs": [],
   "source": [
    "df = pd.DataFrame({'L': Ls,'Z':ib*Ls+delta})\n",
    "d = df.to_csv('zb2.csv', index_label='id')"
   ]
  }
 ],
 "metadata": {
  "kernelspec": {
   "display_name": "Python 3 (ipykernel)",
   "language": "python",
   "name": "python3"
  },
  "language_info": {
   "codemirror_mode": {
    "name": "ipython",
    "version": 3
   },
   "file_extension": ".py",
   "mimetype": "text/x-python",
   "name": "python",
   "nbconvert_exporter": "python",
   "pygments_lexer": "ipython3",
   "version": "3.10.12"
  },
  "toc": {
   "base_numbering": 1,
   "nav_menu": {},
   "number_sections": true,
   "sideBar": true,
   "skip_h1_title": false,
   "title_cell": "Table of Contents",
   "title_sidebar": "Contents",
   "toc_cell": false,
   "toc_position": {},
   "toc_section_display": true,
   "toc_window_display": false
  }
 },
 "nbformat": 4,
 "nbformat_minor": 5
}
