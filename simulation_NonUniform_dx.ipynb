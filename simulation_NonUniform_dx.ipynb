{
 "cells": [
  {
   "cell_type": "code",
   "execution_count": null,
   "id": "dad54267",
   "metadata": {},
   "outputs": [],
   "source": [
    "import numpy as np\n",
    "import pandas as pd"
   ]
  },
  {
   "cell_type": "markdown",
   "id": "90960667",
   "metadata": {},
   "source": [
    "# Nonuniform flow"
   ]
  },
  {
   "cell_type": "code",
   "execution_count": null,
   "id": "0876b4ba",
   "metadata": {},
   "outputs": [],
   "source": [
    "def nonuniform(Ls, Zip, dx):\n",
    "    q = 10.0\n",
    "    n = 0.03\n",
    "    ib = 1/400\n",
    "    g = 9.8\n",
    "    \n",
    "    h0 = (q**2*n**2/ib)**0.3 #等流水深\n",
    "    hc = (q**2/g)**(1/3) # 限界水深\n",
    "    \n",
    "    h = np.zeros_like(Ls) #水深の配列\n",
    "    zb = Zip.copy()\n",
    "    \n",
    "    h[0] = h0 #下流端条件\n",
    "    for i in range(1,len(h)):\n",
    "        h[i] = h[i-1] #収束計算の初期値：一つ下流側の断面の水深\n",
    "        f = 1.0 #仮値\n",
    "        dfdh = 1.0 #仮値\n",
    "        while np.abs(f/dfdh) > 10**(-8): # 反復計算の収束条件\n",
    "            f = q**2/2.0/g/h[i]**2 + h[i] + zb[i] \\\n",
    "              -(q**2/2.0/g/h[i-1]**2 + h[i-1] + zb[i-1]) \\\n",
    "              - 0.5*(q**2*n**2/h[i]**(10/3) + q**2*n**2/h[i-1]**(10/3))*dx\n",
    "            dfdh = -q**2/g/h[i]**3 + 1 + 5/3*q**2*n**2/h[i]**(13/3)*dx\n",
    "            h[i] -= f/dfdh\n",
    "            \n",
    "    return h"
   ]
  },
  {
   "cell_type": "code",
   "execution_count": null,
   "id": "b089c07f",
   "metadata": {},
   "outputs": [],
   "source": [
    "# df = pd.read_csv('zb2.csv',index_col=0)\n",
    "df = pd.read_csv('https://raw.githubusercontent.com/computational-sediment-hyd/1DSWEwithSmallerDx/main/zb2.csv',index_col=0)"
   ]
  },
  {
   "cell_type": "code",
   "execution_count": null,
   "id": "ebcb157b",
   "metadata": {},
   "outputs": [],
   "source": [
    "dx = 0.5\n",
    "Ls1 = np.arange(0,10000.1,dx)\n",
    "Zip1 = np.interp(Ls1, df.L, df.Z)\n",
    "\n",
    "hc1 = nonuniform(Ls1, Zip1, dx)\n",
    "\n",
    "dx = 10.0\n",
    "Ls2 = np.arange(0,10000.1, dx)\n",
    "Zip2 = np.interp(Ls2, df.L, df.Z)\n",
    "\n",
    "hc2 = nonuniform(Ls2, Zip2, dx)\n",
    "\n",
    "dx = 100.0\n",
    "Ls3 = np.arange(0,10000.1, dx)\n",
    "Zip3 = np.interp(Ls3, df.L, df.Z)\n",
    "\n",
    "hc3 = nonuniform(Ls3, Zip3, dx)"
   ]
  },
  {
   "cell_type": "code",
   "execution_count": null,
   "id": "9ca04555",
   "metadata": {},
   "outputs": [],
   "source": [
    "import holoviews as hv\n",
    "hv.extension('bokeh')"
   ]
  },
  {
   "cell_type": "code",
   "execution_count": null,
   "id": "86dfee7d",
   "metadata": {},
   "outputs": [],
   "source": [
    "fig = hv.Curve((df.L,df.Z), label='Zb dx=0.5m').options(show_grid=True, ylabel='elevation[m]', xlabel='distance[m]' ,color='k') \\\n",
    "* hv.Scatter((Ls2, Zip2), label='Zb dx=10m').options(color='r',size=6) \\\n",
    "* hv.Scatter((Ls3, Zip3), label='Zb dx=100m').options(color='g',size=6) \\\n",
    "* hv.Curve((Ls1, Zip1 + hc1), label='dx=0.5m' ).options(color='b') \\\n",
    "* hv.Curve((Ls2, Zip2 + hc2), label='dx=10m').options(color='r') \\\n",
    "* hv.Curve((Ls3, Zip3 + hc3), label='dx=100m').options(color='g')"
   ]
  },
  {
   "cell_type": "code",
   "execution_count": null,
   "id": "e2a9b939",
   "metadata": {},
   "outputs": [],
   "source": [
    "hv.extension('bokeh')\n",
    "figo = fig.options(width=500, legend_position='bottom_right')\n",
    "# d = hv.save(figo, 'NUdx.html')\n",
    "figo "
   ]
  },
  {
   "cell_type": "code",
   "execution_count": null,
   "id": "50a6b2db",
   "metadata": {},
   "outputs": [],
   "source": [
    "hv.extension('bokeh')\n",
    "figo2 = fig.options(xlim=(3050, 3350), ylim=(7, 12), width=700, height=600, legend_position='right')\n",
    "# d = hv.save(figo2, 'NUdx2.html')\n",
    "figo2"
   ]
  }
 ],
 "metadata": {
  "kernelspec": {
   "display_name": "Python 3 (ipykernel)",
   "language": "python",
   "name": "python3"
  },
  "language_info": {
   "codemirror_mode": {
    "name": "ipython",
    "version": 3
   },
   "file_extension": ".py",
   "mimetype": "text/x-python",
   "name": "python",
   "nbconvert_exporter": "python",
   "pygments_lexer": "ipython3",
   "version": "3.10.12"
  },
  "toc": {
   "base_numbering": 1,
   "nav_menu": {},
   "number_sections": true,
   "sideBar": true,
   "skip_h1_title": false,
   "title_cell": "Table of Contents",
   "title_sidebar": "Contents",
   "toc_cell": false,
   "toc_position": {},
   "toc_section_display": true,
   "toc_window_display": true
  }
 },
 "nbformat": 4,
 "nbformat_minor": 5
}
